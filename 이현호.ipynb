{
 "cells": [
  {
   "cell_type": "markdown",
   "metadata": {},
   "source": [
    "1. 반지름 값을 입력받아 원의 넓이를 구하여 출력하는 프로그램을 구현하세요. π는 3.141592 입니다. 내부 모듈을 사용하여도 됩니다. "
   ]
  },
  {
   "cell_type": "code",
   "execution_count": 1,
   "metadata": {},
   "outputs": [
    {
     "name": "stdout",
     "output_type": "stream",
     "text": [
      "원의 넓이는 28.274333882308138입니다!\n"
     ]
    }
   ],
   "source": [
    "from math import *\n",
    "r = int(input('반지름의 값을 입력하세요 >> '))\n",
    "x = pi * pow(r,2)\n",
    "print(f'원의 넓이는 {x}입니다!')"
   ]
  },
  {
   "cell_type": "markdown",
   "metadata": {},
   "source": [
    "2. 영문이름을 입력하면 웹사이트 주소가 리턴되는 함수, get_url() 를  구현하세요.\n",
    "예) url = get_url('google') \n",
    "print(url) # www.google.com"
   ]
  },
  {
   "cell_type": "code",
   "execution_count": 8,
   "metadata": {},
   "outputs": [
    {
     "name": "stdout",
     "output_type": "stream",
     "text": [
      "웹사이트 주소는 www.naver.com 입니다.\n"
     ]
    }
   ],
   "source": [
    "def get_url():\n",
    "    url = input('알고싶은 웹사이트 이름을 입력하세요 >> ')\n",
    "    return print(f'웹사이트 주소는 www.{url}.com 입니다.')\n",
    "\n",
    "get_url()"
   ]
  },
  {
   "cell_type": "markdown",
   "metadata": {},
   "source": [
    "3.  구구단을 수행할 단번호를 입력하면 그 단의 9까지의 결과를 나열하는 프로그램을 입력하세요.\n",
    "예) 3 --> 3 6 9 12 15 18 21 24 27"
   ]
  },
  {
   "cell_type": "code",
   "execution_count": 64,
   "metadata": {},
   "outputs": [
    {
     "name": "stdout",
     "output_type": "stream",
     "text": [
      "7단 :\n",
      "7 x 2 = 14  7 x 3 = 21  7 x 4 = 28  7 x 5 = 35  7 x 6 = 42  7 x 7 = 49  7 x 8 = 56  7 x 9 = 63  "
     ]
    }
   ],
   "source": [
    "x = int(input('구구단을 수행할 단번호를 입력하세요 >> '))\n",
    "print(f'{x}단 :')\n",
    "for i in range(2,10):\n",
    "        print(f'{x} x {i} = {i*x}', end='  ')\n"
   ]
  },
  {
   "cell_type": "markdown",
   "metadata": {},
   "source": [
    "4.  입력한 수를 거꾸로 출력하는 프로그램을 구현하세요.\n",
    "예) 1 3 5 7 9 --> 9 7 5 3 1"
   ]
  },
  {
   "cell_type": "code",
   "execution_count": 65,
   "metadata": {},
   "outputs": [
    {
     "name": "stdout",
     "output_type": "stream",
     "text": [
      "['3', '6', '9', '8', '1'] --> ['1', '8', '9', '6', '3']\n"
     ]
    }
   ],
   "source": [
    "number = input('수 입력').split()\n",
    "result=[]\n",
    "for i in range(1, (len(number)+1)):\n",
    "    result.append(number[-i])\n",
    "print(f'{number} --> {result}')\n"
   ]
  },
  {
   "cell_type": "markdown",
   "metadata": {},
   "source": [
    "5. SmartPhone 이라는 클래스를 만들고, 객체를 생성해서 phoneOwner, phoneNumber, company 등의 멤버변수(속성)을 가지도록 만드세요.(본인이 다른 기능을 좀 더 추가하여도 무방합니다)"
   ]
  },
  {
   "cell_type": "code",
   "execution_count": 59,
   "metadata": {},
   "outputs": [
    {
     "name": "stdout",
     "output_type": "stream",
     "text": [
      "이름 : 이현호\n",
      "전화 번호 : 010********\n",
      "폰 회사 : 애플\n",
      "이름 : 유재석\n",
      "전화 번호 : 01012345678\n",
      "폰 회사 : 삼성\n"
     ]
    }
   ],
   "source": [
    "class SmartPhone():\n",
    "    phoneOwner = '이현호'\n",
    "    phoneNumber = '01097333674'\n",
    "    company = '애플'\n",
    "\n",
    "    def __init__(self, phoneOwner, phoneNumber, company):\n",
    "        self.phoneOwner = phoneOwner\n",
    "        self.phoneNumber = phoneNumber\n",
    "        self.company = company\n",
    "\n",
    "    def __str__(self):\n",
    "        retStr = f'이름 : {self.phoneOwner}\\n전화 번호 : {self.phoneNumber}\\n폰 회사 : {self.company}'\n",
    "        return retStr   \n",
    "     \n",
    "    def user(self):\n",
    "        phoneOwner, phoneNumber, company = input('이름, 전화번호, 폰 회사를 입력하세요 >> ').split()\n",
    "        self.phoneOwner = phoneOwner\n",
    "        self.phoneNumber = phoneNumber\n",
    "        self.company = company        \n",
    "    \n",
    "\n",
    "machine = SmartPhone('이현호', '010********', '애플')\n",
    "print(machine)\n",
    "machine.user()\n",
    "print(machine)"
   ]
  }
 ],
 "metadata": {
  "kernelspec": {
   "display_name": "Python 3",
   "language": "python",
   "name": "python3"
  },
  "language_info": {
   "codemirror_mode": {
    "name": "ipython",
    "version": 3
   },
   "file_extension": ".py",
   "mimetype": "text/x-python",
   "name": "python",
   "nbconvert_exporter": "python",
   "pygments_lexer": "ipython3",
   "version": "3.11.9"
  }
 },
 "nbformat": 4,
 "nbformat_minor": 2
}
